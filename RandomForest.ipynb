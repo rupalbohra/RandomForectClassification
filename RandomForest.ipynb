{
  "nbformat": 4,
  "nbformat_minor": 0,
  "metadata": {
    "colab": {
      "provenance": []
    },
    "kernelspec": {
      "name": "python3",
      "display_name": "Python 3"
    },
    "language_info": {
      "name": "python"
    }
  },
  "cells": [
    {
      "cell_type": "code",
      "execution_count": null,
      "metadata": {
        "id": "WsIuwnpO8gE7"
      },
      "outputs": [],
      "source": [
        "df1 = pd.read_csv(\"User_Data.csv\")\n",
        "import pandas as pd\n",
        "df1"
      ]
    },
    {
      "cell_type": "code",
      "source": [
        "df1.describe()"
      ],
      "metadata": {
        "id": "Jfem5ec08pIu"
      },
      "execution_count": null,
      "outputs": []
    },
    {
      "cell_type": "code",
      "source": [
        "missing_values = df1.isnull().sum()\n",
        "print(\"missing values are: \", missing_values)\n",
        "df1.isna()"
      ],
      "metadata": {
        "id": "6ua1mYdO8ptV"
      },
      "execution_count": null,
      "outputs": []
    },
    {
      "cell_type": "code",
      "source": [
        "# Separate features (X) and the target variable (Y)\n",
        "X = df1.drop(columns=['Purchased']) # Assuming 'target' is the name of the target column\n",
        "Y = df1['Purchased'] # Replace 'target' with the actual name of your target column"
      ],
      "metadata": {
        "id": "BdfllrSn8rwm"
      },
      "execution_count": null,
      "outputs": []
    },
    {
      "cell_type": "code",
      "source": [
        "# Print the shapes of X and Y\n",
        "print(\"Shape of X (features):\", X.shape)\n",
        "print(\"Shape of Y (target variable):\", Y.shape)"
      ],
      "metadata": {
        "id": "Xv-6oz5P8_9a"
      },
      "execution_count": null,
      "outputs": []
    },
    {
      "cell_type": "code",
      "source": [
        "from sklearn.model_selection import train_test_split\n",
        "# Separate features (X) and the target variable (Y)\n",
        "X = df1.drop(columns=['Purchased']) # Exclude the 'Purchased' column\n",
        "Y = df1['Purchased'] # 'Purchased' is the target variable\n",
        "# Split the data into training and test sets (80% train, 20% test)\n",
        "X_train, X_test, Y_train, Y_test = train_test_split(X, Y, test_size=0.2, random_state=42)\n",
        "# Print the shapes of the training and test sets\n",
        "print(\"Shape of X_train:\", X_train.shape)\n",
        "print(\"Shape of X_test:\", X_test.shape)\n",
        "print(\"Shape of Y_train:\", Y_train.shape)\n",
        "print(\"Shape of Y_test:\", Y_test.shape)"
      ],
      "metadata": {
        "id": "j4gq5pw49GVm"
      },
      "execution_count": null,
      "outputs": []
    },
    {
      "cell_type": "code",
      "source": [
        "from sklearn.ensemble import RandomForestClassifier\n",
        "from sklearn.preprocessing import LabelEncoder\n",
        "# Encode the 'Gender' column using LabelEncoder\n",
        "label_encoder = LabelEncoder()\n",
        "df1['Gender'] = label_encoder.fit_transform(df1['Gender'])"
      ],
      "metadata": {
        "id": "id3IlwMf9KWl"
      },
      "execution_count": null,
      "outputs": []
    },
    {
      "cell_type": "code",
      "source": [
        "# Assuming 'Purchased' is the target column, separate features (X) and target (Y)\n",
        "X = df1.drop(columns=['Purchased'])\n",
        "Y = df1['Purchased']\n"
      ],
      "metadata": {
        "id": "XFykxdLC9Nrb"
      },
      "execution_count": null,
      "outputs": []
    },
    {
      "cell_type": "code",
      "source": [
        "# Create a Random Forest classifier with specified parameters\n",
        "rf_classifier = RandomForestClassifier(n_estimators=100, criterion='entropy', random_state=42)\n",
        "# Fit the classifier to the data\n",
        "rf_classifier.fit(X, Y)"
      ],
      "metadata": {
        "id": "vlxXKY1Z9PrJ"
      },
      "execution_count": null,
      "outputs": []
    },
    {
      "cell_type": "code",
      "source": [
        "# Get feature importances\n",
        "feature_importances = rf_classifier.feature_importances_\n",
        "# Pair feature names with their corresponding importances\n",
        "feature_importance_pairs = list(zip(X.columns, feature_importances))\n",
        "# Sort feature importances in descending order\n",
        "feature_importance_pairs.sort(key=lambda x: x[1], reverse=True)\n",
        "# Print the important features and their importances\n",
        "print(\"Important Features:\")\n",
        "for feature, importance in feature_importance_pairs:\n",
        "print(f\"{feature}: {importance:.4f}\")"
      ],
      "metadata": {
        "id": "jhu0wjjg9TvN"
      },
      "execution_count": null,
      "outputs": []
    },
    {
      "cell_type": "code",
      "source": [
        "import pandas as pd\n",
        "from sklearn.ensemble import RandomForestClassifier\n",
        "from sklearn.preprocessing import LabelEncoder\n",
        "from sklearn.model_selection import train_test_split\n",
        "from sklearn.metrics import accuracy_score\n",
        "# Encode the 'Gender' column using LabelEncoder\n",
        "label_encoder = LabelEncoder()\n",
        "df1['Gender'] = label_encoder.fit_transform(df1['Gender'])"
      ],
      "metadata": {
        "colab": {
          "base_uri": "https://localhost:8080/",
          "height": 193
        },
        "id": "7VPx7Iqe82SH",
        "outputId": "b7c1dde3-5301-4536-8b6f-0d541b0de16e"
      },
      "execution_count": 1,
      "outputs": [
        {
          "output_type": "error",
          "ename": "NameError",
          "evalue": "name 'df1' is not defined",
          "traceback": [
            "\u001b[0;31m---------------------------------------------------------------------------\u001b[0m",
            "\u001b[0;31mNameError\u001b[0m                                 Traceback (most recent call last)",
            "\u001b[0;32m<ipython-input-1-75c72f5288a6>\u001b[0m in \u001b[0;36m<cell line: 8>\u001b[0;34m()\u001b[0m\n\u001b[1;32m      6\u001b[0m \u001b[0;31m# Encode the 'Gender' column using LabelEncoder\u001b[0m\u001b[0;34m\u001b[0m\u001b[0;34m\u001b[0m\u001b[0m\n\u001b[1;32m      7\u001b[0m \u001b[0mlabel_encoder\u001b[0m \u001b[0;34m=\u001b[0m \u001b[0mLabelEncoder\u001b[0m\u001b[0;34m(\u001b[0m\u001b[0;34m)\u001b[0m\u001b[0;34m\u001b[0m\u001b[0;34m\u001b[0m\u001b[0m\n\u001b[0;32m----> 8\u001b[0;31m \u001b[0mdf1\u001b[0m\u001b[0;34m[\u001b[0m\u001b[0;34m'Gender'\u001b[0m\u001b[0;34m]\u001b[0m \u001b[0;34m=\u001b[0m \u001b[0mlabel_encoder\u001b[0m\u001b[0;34m.\u001b[0m\u001b[0mfit_transform\u001b[0m\u001b[0;34m(\u001b[0m\u001b[0mdf1\u001b[0m\u001b[0;34m[\u001b[0m\u001b[0;34m'Gender'\u001b[0m\u001b[0;34m]\u001b[0m\u001b[0;34m)\u001b[0m\u001b[0;34m\u001b[0m\u001b[0;34m\u001b[0m\u001b[0m\n\u001b[0m\u001b[1;32m      9\u001b[0m \u001b[0;31m# Separate features (X) and target (Y)\u001b[0m\u001b[0;34m\u001b[0m\u001b[0;34m\u001b[0m\u001b[0m\n",
            "\u001b[0;31mNameError\u001b[0m: name 'df1' is not defined"
          ]
        }
      ]
    },
    {
      "cell_type": "code",
      "source": [
        "# Separate features (X) and target (Y)\n",
        "X = df1.drop(columns=['Purchased'])\n",
        "Y = df1['Purchased']"
      ],
      "metadata": {
        "id": "-0GuBdLp9X5q"
      },
      "execution_count": null,
      "outputs": []
    },
    {
      "cell_type": "code",
      "source": [
        "# Define the list of selected important features (replace with your actual feature names)\n",
        "selected_features = ['Age', 'EstimatedSalary', 'User ID', 'Gender']"
      ],
      "metadata": {
        "id": "dZ2t0zzI85EW"
      },
      "execution_count": null,
      "outputs": []
    },
    {
      "cell_type": "code",
      "source": [
        "# Create a new DataFrame with only the selected features\n",
        "X_selected = df1[selected_features]"
      ],
      "metadata": {
        "id": "0FfJhGck9bVk"
      },
      "execution_count": null,
      "outputs": []
    },
    {
      "cell_type": "code",
      "source": [
        "# Split the data into training (80%) and test (20%) sets\n",
        "X_train, X_test, Y_train, Y_test = train_test_split(X_selected, Y, test_size=0.2, random_state=42)"
      ],
      "metadata": {
        "id": "v91xvZO-9dnF"
      },
      "execution_count": null,
      "outputs": []
    },
    {
      "cell_type": "code",
      "source": [
        "# Create a Random Forest classifier with specified parameters\n",
        "rf_classifier = RandomForestClassifier(n_estimators=100, criterion='entropy', random_state=42)\n",
        "# Fit the classifier to the data\n",
        "rf_classifier.fit(X_train, Y_train)"
      ],
      "metadata": {
        "id": "b8PGuvlk9fVK"
      },
      "execution_count": null,
      "outputs": []
    },
    {
      "cell_type": "code",
      "source": [
        "# Make predictions on the test set\n",
        "Y_pred = rf_classifier.predict(X_test)"
      ],
      "metadata": {
        "id": "0XaFJu7w9hG1"
      },
      "execution_count": null,
      "outputs": []
    },
    {
      "cell_type": "code",
      "source": [
        "# Calculate the accuracy of the model\n",
        "accuracy = accuracy_score(Y_test, Y_pred)\n",
        "print(\"Accuracy on Test Set:\", accuracy)"
      ],
      "metadata": {
        "id": "Yh9BVWlA9ijB"
      },
      "execution_count": null,
      "outputs": []
    }
  ]
}